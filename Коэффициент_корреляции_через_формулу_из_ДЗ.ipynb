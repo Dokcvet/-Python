{
 "cells": [
  {
   "cell_type": "code",
   "execution_count": 15,
   "id": "74259de5",
   "metadata": {},
   "outputs": [],
   "source": [
    "%matplotlib inline\n",
    "import numpy as np\n",
    "import matplotlib.pyplot as plt"
   ]
  },
  {
   "cell_type": "code",
   "execution_count": 18,
   "id": "6bafaf35",
   "metadata": {},
   "outputs": [
    {
     "data": {
      "image/png": "[encoded data removed]",
      "text/plain": [
       "<Figure size 432x288 with 1 Axes>"
      ]
     },
     "metadata": {
      "needs_background": "light"
     },
     "output_type": "display_data"
    },
    {
     "name": "stdout",
     "output_type": "stream",
     "text": [
      "[[1.         0.97514269]\n",
      " [0.97514269 1.        ]]\n",
      "0.9751426870058175\n"
     ]
    }
   ],
   "source": [
    "n = 100\n",
    "r = 0.8\n",
    "x = np.random.rand(n)\n",
    "y = r*x + (1 - r)*np.random.rand(n)\n",
    "plt.plot(x, y, 'o')\n",
    "plt.xlabel('x')\n",
    "plt.ylabel('y')\n",
    "plt.grid(True)\n",
    "plt.show()\n",
    "c = np.corrcoef(x, y)\n",
    "#расчет коэффициента корреляции x и y по формуле из ДЗ\n",
    "R = np.sum((x - x.mean())*(y - y.mean())) / (np.sqrt(np.sum((x - x.mean()) ** 2)*np.sum((y - y.mean()) ** 2)))\n",
    "# или можно использовать в числителе np: (x.std() * y.std())\n",
    "print(c)\n",
    "print(R)"
   ]
  },
  {
   "cell_type": "code",
   "execution_count": null,
   "id": "18ca0016",
   "metadata": {},
   "outputs": [],
   "source": []
  }
 ],
 "metadata": {
  "kernelspec": {
   "display_name": "Python 3",
   "language": "python",
   "name": "python3"
  },
  "language_info": {
   "codemirror_mode": {
    "name": "ipython",
    "version": 3
   },
   "file_extension": ".py",
   "mimetype": "text/x-python",
   "name": "python",
   "nbconvert_exporter": "python",
   "pygments_lexer": "ipython3",
   "version": "3.8.8"
  }
 },
 "nbformat": 4,
 "nbformat_minor": 5
}
