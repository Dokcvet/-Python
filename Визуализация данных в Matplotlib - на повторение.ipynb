{
 "cells": [
  {
   "cell_type": "code",
   "execution_count": 7,
   "id": "150ffe8e",
   "metadata": {},
   "outputs": [],
   "source": [
    "import numpy as np\n",
    "import pandas as pd\n",
    "from matplotlib import pyplot as plt\n",
    "%matplotlib inline\n",
    "%config InlineBackend.figure_format = 'svg'"
   ]
  },
  {
   "cell_type": "code",
   "execution_count": 14,
   "id": "b19ad53a",
   "metadata": {},
   "outputs": [
    {
     "data": {
      "text/plain": [
       "array([12, 13, 14, 15, 16, 17, 18, 19, 20, 21, 22, 23])"
      ]
     },
     "execution_count": 14,
     "metadata": {},
     "output_type": "execute_result"
    }
   ],
   "source": [
    "#1.Создать одномерный массив Numpy под названием a из 12 последовательных целых чисел чисел от 12 до 24 невключительно\n",
    "a = np.arange(12, 24)\n",
    "a"
   ]
  },
  {
   "cell_type": "code",
   "execution_count": 22,
   "id": "dbd9cb2f",
   "metadata": {},
   "outputs": [
    {
     "name": "stdout",
     "output_type": "stream",
     "text": [
      "[[12 13 14 15 16 17]\n",
      " [18 19 20 21 22 23]]\n",
      "[[12 13 14 15]\n",
      " [16 17 18 19]\n",
      " [20 21 22 23]]\n",
      "[[12 13 14]\n",
      " [15 16 17]\n",
      " [18 19 20]\n",
      " [21 22 23]]\n",
      "[[12 13]\n",
      " [14 15]\n",
      " [16 17]\n",
      " [18 19]\n",
      " [20 21]\n",
      " [22 23]]\n",
      "[[12]\n",
      " [13]\n",
      " [14]\n",
      " [15]\n",
      " [16]\n",
      " [17]\n",
      " [18]\n",
      " [19]\n",
      " [20]\n",
      " [21]\n",
      " [22]\n",
      " [23]]\n"
     ]
    }
   ],
   "source": [
    "#2.Создать 5 двумерных массивов разной формы из массива a. Не использовать в аргументах метода reshape число -1.\n",
    "a1 = a.reshape(2, 6)\n",
    "a2 = a.reshape(3, 4)\n",
    "a3 = a.reshape(4, 3)\n",
    "a4 = a.reshape(6, 2)\n",
    "a5 = a.reshape(12, 1)\n",
    "print(a1)\n",
    "print(a2)\n",
    "print(a3)\n",
    "print(a4)\n",
    "print(a5)"
   ]
  },
  {
   "cell_type": "code",
   "execution_count": 23,
   "id": "c640f5fe",
   "metadata": {},
   "outputs": [
    {
     "name": "stdout",
     "output_type": "stream",
     "text": [
      "[[12 13 14 15 16 17]\n",
      " [18 19 20 21 22 23]]\n",
      "[[12 13 14 15]\n",
      " [16 17 18 19]\n",
      " [20 21 22 23]]\n",
      "[[12 13 14]\n",
      " [15 16 17]\n",
      " [18 19 20]\n",
      " [21 22 23]]\n",
      "[[12 13]\n",
      " [14 15]\n",
      " [16 17]\n",
      " [18 19]\n",
      " [20 21]\n",
      " [22 23]]\n",
      "[[12]\n",
      " [13]\n",
      " [14]\n",
      " [15]\n",
      " [16]\n",
      " [17]\n",
      " [18]\n",
      " [19]\n",
      " [20]\n",
      " [21]\n",
      " [22]\n",
      " [23]]\n"
     ]
    }
   ],
   "source": [
    "#3.Создать 5 двумерных массивов разной формы из массива a. Использовать в аргументах метода reshape число -1 \n",
    "#(в трех примерах - для обозначения числа столбцов, в двух - для строк).\n",
    "a1 = a.reshape(2, -1)\n",
    "a2 = a.reshape(3, -1)\n",
    "a3 = a.reshape(4, -1)\n",
    "a4 = a.reshape(-1, 2)\n",
    "a5 = a.reshape(-1, 1)\n",
    "print(a1)\n",
    "print(a2)\n",
    "print(a3)\n",
    "print(a4)\n",
    "print(a5)"
   ]
  },
  {
   "cell_type": "code",
   "execution_count": 34,
   "id": "c9001df6",
   "metadata": {},
   "outputs": [
    {
     "name": "stdout",
     "output_type": "stream",
     "text": [
      "[12 13 14 15 16 17 18 19 20 21 22 23]\n",
      "[[12]\n",
      " [13]\n",
      " [14]\n",
      " [15]\n",
      " [16]\n",
      " [17]\n",
      " [18]\n",
      " [19]\n",
      " [20]\n",
      " [21]\n",
      " [22]\n",
      " [23]]\n",
      "1 (12,)\n",
      "2 (12, 1)\n"
     ]
    }
   ],
   "source": [
    "#4.Можно ли массив Numpy, состоящий из одного столбца и 12 строк, назвать одномерным?\n",
    "a = np.arange(12, 24)\n",
    "b = a.reshape(12, 1)\n",
    "print(a)\n",
    "print(b)\n",
    "print(a.ndim, a.shape)\n",
    "print(b.ndim, b.shape)\n",
    "#массив Numpy, состоящий из одного столбца и 12 строк выводится как двумерный массив с дополнительными []. \n",
    "#Для получения данных из такого массива нам необходимо использовать индекс строки + индекс столбца. \n",
    "#Таким образом, массив Numpy, состоящий из одного столбца и 12 строк,  нельзя назвать одномерным, \n",
    "#что подтверждается с помощью атрибутов .ndim и .shape."
   ]
  },
  {
   "cell_type": "code",
   "execution_count": 29,
   "id": "1e52aa5e",
   "metadata": {},
   "outputs": [
    {
     "name": "stdout",
     "output_type": "stream",
     "text": [
      "[[ 0.49320345  1.40631367 -1.51923785 -0.76312998]\n",
      " [ 0.02535485  0.87347843 -0.89649564  0.82450451]\n",
      " [ 0.07511289  0.12292812 -0.43321679  0.13225905]]\n"
     ]
    }
   ],
   "source": [
    "#5.Создать массив из 3 строк и 4 столбцов, состоящий из случайных чисел с плавающей запятой \n",
    "#из нормального распределения со средним, равным 0 и среднеквадратичным отклонением, равным 1.0. \n",
    "c = np.random.randn(3, 4)\n",
    "print(c)"
   ]
  },
  {
   "cell_type": "code",
   "execution_count": 31,
   "id": "2138b6ea",
   "metadata": {},
   "outputs": [
    {
     "name": "stdout",
     "output_type": "stream",
     "text": [
      "12\n",
      "12\n"
     ]
    }
   ],
   "source": [
    "#Получить из этого массива одномерный массив с таким же атрибутом size, как и исходный массив.\n",
    "print(c.size)\n",
    "c = c.flatten()\n",
    "print(c.size)"
   ]
  },
  {
   "cell_type": "code",
   "execution_count": 37,
   "id": "4e5ed545",
   "metadata": {},
   "outputs": [
    {
     "data": {
      "text/plain": [
       "array([20, 18, 16, 14, 12, 10,  8,  6,  4,  2])"
      ]
     },
     "execution_count": 37,
     "metadata": {},
     "output_type": "execute_result"
    }
   ],
   "source": [
    "#6.Создать массив a, состоящий из целых чисел, убывающих от 20 до 0 невключительно с интервалом 2.\n",
    "a = np.arange(20, 0, -2)\n",
    "a"
   ]
  },
  {
   "cell_type": "code",
   "execution_count": 41,
   "id": "67186225",
   "metadata": {},
   "outputs": [
    {
     "data": {
      "text/plain": [
       "array([[20, 18, 16, 14, 12, 10,  8,  6,  4,  2]])"
      ]
     },
     "execution_count": 41,
     "metadata": {},
     "output_type": "execute_result"
    }
   ],
   "source": [
    "#7.Создать массив b, состоящий из 1 строки и 10 столбцов: \n",
    "#целых чисел, убывающих от 20 до 1 невключительно с интервалом 2. В чем разница между массивами a и b?\n",
    "b = np.arange(20, 1, -2).reshape(1, 10)\n",
    "b\n",
    "#Разница между массивами a и b в том, что a - одномерный, а b - двумерный"
   ]
  },
  {
   "cell_type": "code",
   "execution_count": 45,
   "id": "1d286158",
   "metadata": {},
   "outputs": [
    {
     "name": "stdout",
     "output_type": "stream",
     "text": [
      "[[0. 0.]\n",
      " [0. 0.]\n",
      " [1. 1.]\n",
      " [1. 1.]\n",
      " [1. 1.]]\n",
      "10\n"
     ]
    }
   ],
   "source": [
    "#8.Вертикально соединить массивы a и b. a - двумерный массив из нулей, число строк которого больше 1 и на 1 меньше, \n",
    "#чем число строк двумерного массива b, состоящего из единиц. Итоговый массив v должен иметь атрибут size, равный 10.\n",
    "a = np.zeros((2, 2))\n",
    "b = np.ones((3, 2))\n",
    "v = np.vstack((a, b))\n",
    "print(v)\n",
    "print(v.size)"
   ]
  },
  {
   "cell_type": "code",
   "execution_count": 49,
   "id": "f6cb0105",
   "metadata": {},
   "outputs": [
    {
     "data": {
      "text/plain": [
       "array([ 0,  1,  2,  3,  4,  5,  6,  7,  8,  9, 10, 11])"
      ]
     },
     "execution_count": 49,
     "metadata": {},
     "output_type": "execute_result"
    }
   ],
   "source": [
    "#9.Создать одномерный массив а, состоящий из последовательности целых чисел от 0 до 12. \n",
    "a = np.arange(0, 12)\n",
    "a"
   ]
  },
  {
   "cell_type": "code",
   "execution_count": 50,
   "id": "981eb145",
   "metadata": {},
   "outputs": [
    {
     "data": {
      "text/plain": [
       "array([[ 0,  1,  2],\n",
       "       [ 3,  4,  5],\n",
       "       [ 6,  7,  8],\n",
       "       [ 9, 10, 11]])"
      ]
     },
     "execution_count": 50,
     "metadata": {},
     "output_type": "execute_result"
    }
   ],
   "source": [
    "#Поменять форму этого массива, чтобы получилась матрица A (двумерный массив Numpy), состоящая из 4 строк и 3 столбцов.\n",
    "A = a.reshape(4, 3)\n",
    "A"
   ]
  },
  {
   "cell_type": "code",
   "execution_count": 51,
   "id": "ab5ec21b",
   "metadata": {},
   "outputs": [
    {
     "data": {
      "text/plain": [
       "array([[ 0,  3,  6,  9],\n",
       "       [ 1,  4,  7, 10],\n",
       "       [ 2,  5,  8, 11]])"
      ]
     },
     "execution_count": 51,
     "metadata": {},
     "output_type": "execute_result"
    }
   ],
   "source": [
    "#Получить матрицу At путем транспонирования матрицы A.\n",
    "At = A.T\n",
    "At"
   ]
  },
  {
   "cell_type": "code",
   "execution_count": 52,
   "id": "1d080d9c",
   "metadata": {},
   "outputs": [
    {
     "data": {
      "text/plain": [
       "array([[  5,  14,  23,  32],\n",
       "       [ 14,  50,  86, 122],\n",
       "       [ 23,  86, 149, 212],\n",
       "       [ 32, 122, 212, 302]])"
      ]
     },
     "execution_count": 52,
     "metadata": {},
     "output_type": "execute_result"
    }
   ],
   "source": [
    "#Получить матрицу B, умножив матрицу A на матрицу At с помощью матричного умножения.\n",
    "B = A.dot(At)\n",
    "B"
   ]
  },
  {
   "cell_type": "code",
   "execution_count": 54,
   "id": "2d02ab1e",
   "metadata": {},
   "outputs": [
    {
     "name": "stdout",
     "output_type": "stream",
     "text": [
      "16 (4, 4)\n"
     ]
    }
   ],
   "source": [
    "#Какой размер имеет матрица B? Получится ли вычислить обратную матрицу для матрицы B и почему?\n",
    "print(B.size, B.shape)\n"
   ]
  },
  {
   "cell_type": "code",
   "execution_count": 55,
   "id": "38a1b879",
   "metadata": {},
   "outputs": [
    {
     "data": {
      "text/plain": [
       "0.0"
      ]
     },
     "execution_count": 55,
     "metadata": {},
     "output_type": "execute_result"
    }
   ],
   "source": [
    "#Получится ли вычислить обратную матрицу для матрицы B и почему?\n",
    "d = np.linalg.det(B)\n",
    "d\n",
    "#Обратную матрицу можно вычислить только для матрицы определитель которой НЕ РАВЕН 0. "
   ]
  },
  {
   "cell_type": "code",
   "execution_count": 56,
   "id": "3811e180",
   "metadata": {},
   "outputs": [],
   "source": [
    "#10.Инициализируйте генератор случайных числе с помощью объекта seed, равного 42.\n",
    "np.random.seed(42)"
   ]
  },
  {
   "cell_type": "code",
   "execution_count": 63,
   "id": "31eef3c9",
   "metadata": {},
   "outputs": [
    {
     "data": {
      "text/plain": [
       "array([12, 11,  8,  0, 10, 10, 14,  9, 15, 11, 11, 15, 14, 13, 13, 14])"
      ]
     },
     "execution_count": 63,
     "metadata": {},
     "output_type": "execute_result"
    }
   ],
   "source": [
    "#11.Создайте одномерный массив c, \n",
    "#составленный из последовательности 16-ти случайных равномерно распределенных целых чисел от 0 до 16 невключительно. \n",
    "c = np.random.randint(0, 16, 16)\n",
    "c"
   ]
  },
  {
   "cell_type": "code",
   "execution_count": 67,
   "id": "3f4c702d",
   "metadata": {},
   "outputs": [
    {
     "data": {
      "text/plain": [
       "array([[12, 11,  8,  0],\n",
       "       [10, 10, 14,  9],\n",
       "       [15, 11, 11, 15],\n",
       "       [14, 13, 13, 14]])"
      ]
     },
     "execution_count": 67,
     "metadata": {},
     "output_type": "execute_result"
    }
   ],
   "source": [
    "#12.Поменяйте его форму так, чтобы получилась квадратная матрица C.\n",
    "c = c.reshape(4, 4)\n",
    "c"
   ]
  },
  {
   "cell_type": "code",
   "execution_count": 69,
   "id": "dad52072",
   "metadata": {},
   "outputs": [
    {
     "data": {
      "text/plain": [
       "array([[125, 124, 103,  32],\n",
       "       [114, 150, 226, 212],\n",
       "       [173, 196, 259, 362],\n",
       "       [172, 252, 342, 442]])"
      ]
     },
     "execution_count": 69,
     "metadata": {},
     "output_type": "execute_result"
    }
   ],
   "source": [
    "#Получите матрицу D, поэлементно прибавив матрицу B из предыдущего вопроса к матрице C, умноженной на 10. \n",
    "D = c * 10 + B\n",
    "D\n"
   ]
  },
  {
   "cell_type": "code",
   "execution_count": 71,
   "id": "7aa49d3f",
   "metadata": {},
   "outputs": [
    {
     "name": "stdout",
     "output_type": "stream",
     "text": [
      "81895800.00000027\n",
      "4\n"
     ]
    }
   ],
   "source": [
    "#Вычислите определитель, ранг и обратную матрицу D_inv для D.\n",
    "d = np.linalg.det(D)\n",
    "r = np.linalg.matrix_rank(D)\n",
    "print(d)\n",
    "print(r)"
   ]
  },
  {
   "cell_type": "code",
   "execution_count": 72,
   "id": "dc13617b",
   "metadata": {},
   "outputs": [
    {
     "data": {
      "text/plain": [
       "array([[ 0.00015703,  0.00765607,  0.02306614, -0.02257478],\n",
       "       [ 0.01433285, -0.0263845 , -0.02433629,  0.03154887],\n",
       "       [-0.00681818,  0.02465035, -0.00028548, -0.01109581],\n",
       "       [-0.00295717, -0.00700988,  0.00511992,  0.00164551]])"
      ]
     },
     "execution_count": 72,
     "metadata": {},
     "output_type": "execute_result"
    }
   ],
   "source": [
    "D_inv = np.linalg.inv(D)\n",
    "D_inv"
   ]
  },
  {
   "cell_type": "code",
   "execution_count": 73,
   "id": "087df969",
   "metadata": {},
   "outputs": [
    {
     "data": {
      "text/plain": [
       "array([[1, 1, 1, 0],\n",
       "       [1, 0, 0, 1],\n",
       "       [0, 1, 0, 0],\n",
       "       [0, 0, 1, 1]])"
      ]
     },
     "execution_count": 73,
     "metadata": {},
     "output_type": "execute_result"
    }
   ],
   "source": [
    "#13.Приравняйте к нулю отрицательные числа в матрице D_inv, а положительные - к единице. \n",
    "#Убедитесь, что в матрице D_inv остались только нули и единицы.\n",
    "D_inv = np.where(D_inv<0, 0, 1)\n",
    "D_inv"
   ]
  },
  {
   "cell_type": "code",
   "execution_count": 76,
   "id": "dbf1fbee",
   "metadata": {},
   "outputs": [
    {
     "name": "stdout",
     "output_type": "stream",
     "text": [
      "[[  5  14  23  32]\n",
      " [ 14  50  86 122]\n",
      " [ 23  86 149 212]\n",
      " [ 32 122 212 302]]\n",
      "[[12 11  8  0]\n",
      " [10 10 14  9]\n",
      " [15 11 11 15]\n",
      " [14 13 13 14]]\n",
      "[[  5  14  23   0]\n",
      " [ 14  10  14 122]\n",
      " [ 15  86  11  15]\n",
      " [ 14  13 212 302]]\n"
     ]
    }
   ],
   "source": [
    "#С помощью функции numpy.where, используя матрицу D_inv в качестве маски, а матрицы B и C - в качестве источников данных, \n",
    "#получите матрицу E размером 4x4.  Элементы матрицы E, для которых соответствующий элемент матрицы D_inv равен 1, \n",
    "#должны быть равны соответствующему элементу матрицы B, а элементы матрицы E, для которых соответствующий элемент матрицы D_inv\n",
    "#равен 0, должны быть равны соответствующему элементу матрицы C.\n",
    "E = np.where(D_inv==1, B, c)\n",
    "print(B)\n",
    "print(c)\n",
    "print(E)"
   ]
  },
  {
   "cell_type": "code",
   "execution_count": null,
   "id": "4d42b611",
   "metadata": {},
   "outputs": [],
   "source": []
  }
 ],
 "metadata": {
  "kernelspec": {
   "display_name": "Python 3",
   "language": "python",
   "name": "python3"
  },
  "language_info": {
   "codemirror_mode": {
    "name": "ipython",
    "version": 3
   },
   "file_extension": ".py",
   "mimetype": "text/x-python",
   "name": "python",
   "nbconvert_exporter": "python",
   "pygments_lexer": "ipython3",
   "version": "3.8.8"
  }
 },
 "nbformat": 4,
 "nbformat_minor": 5
}
