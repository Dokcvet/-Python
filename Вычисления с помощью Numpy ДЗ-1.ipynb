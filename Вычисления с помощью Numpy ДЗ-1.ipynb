{
 "cells": [
  {
   "cell_type": "code",
   "execution_count": 1,
   "id": "c6deccea",
   "metadata": {},
   "outputs": [],
   "source": [
    "#1. Импортируйте библиотеку Numpy и дайте ей псевдоним np\n",
    "import numpy as np"
   ]
  },
  {
   "cell_type": "code",
   "execution_count": 13,
   "id": "2b7c3fd1",
   "metadata": {},
   "outputs": [
    {
     "data": {
      "text/plain": [
       "array([[ 1,  6],\n",
       "       [ 2,  8],\n",
       "       [ 3, 11],\n",
       "       [ 3, 10],\n",
       "       [ 1,  7]])"
      ]
     },
     "execution_count": 13,
     "metadata": {},
     "output_type": "execute_result"
    }
   ],
   "source": [
    "#Создайте массив Numpy под названием a размером 5x2, то есть состоящий из 5 строк и 2 столбцов.\n",
    "#Первый столбец должен содержать числа 1, 2, 3, 3, 1, а второй — числа 6, 8, 11, 10, 7.\n",
    "a = np.array([[1, 6],\n",
    "             [2, 8],\n",
    "             [3, 11],\n",
    "             [3, 10],\n",
    "             [1, 7]])\n",
    "a"
   ]
  },
  {
   "cell_type": "code",
   "execution_count": 6,
   "id": "b625facf",
   "metadata": {},
   "outputs": [
    {
     "name": "stdout",
     "output_type": "stream",
     "text": [
      "среднее значение: [2.  8.4]\n"
     ]
    }
   ],
   "source": [
    "#найдите среднее значение по каждому признаку, используя метод mean массива Numpy.\n",
    "#Результат запишите в массив mean_a, в нем должно быть 2 элемента.\n",
    "mean_a = a.mean(axis=0)\n",
    "print(f'среднее значение: {mean_a}')"
   ]
  },
  {
   "cell_type": "code",
   "execution_count": 14,
   "id": "22b40f96",
   "metadata": {},
   "outputs": [
    {
     "data": {
      "text/plain": [
       "array([[-1. , -2.4],\n",
       "       [ 0. , -0.4],\n",
       "       [ 1. ,  2.6],\n",
       "       [ 1. ,  1.6],\n",
       "       [-1. , -1.4]])"
      ]
     },
     "execution_count": 14,
     "metadata": {},
     "output_type": "execute_result"
    }
   ],
   "source": [
    "#2 Вычислите массив a_centered, отняв от значений массива а \n",
    "#средние значения соответствующих признаков, содержащиеся в массиве mean_a.\n",
    "#Вычисление должно производиться в одно действие.\n",
    "#Получившийся массив должен иметь размер 5x2.\n",
    "a_centered = np.subtract(a, mean_a)\n",
    "#a_centered = a - mean_a\n",
    "a_centered"
   ]
  },
  {
   "cell_type": "code",
   "execution_count": 16,
   "id": "52455df3",
   "metadata": {},
   "outputs": [
    {
     "data": {
      "text/plain": [
       "8.0"
      ]
     },
     "execution_count": 16,
     "metadata": {},
     "output_type": "execute_result"
    }
   ],
   "source": [
    "#3. Найдите скалярное произведение столбцов массива a_centered.\n",
    "#В результате должна получиться величина a_centered_sp. \n",
    "a1 = a_centered[:,0]\n",
    "a2 = a_centered[:,1]\n",
    "a_centered_sp = np.dot(a1,a2)\n",
    "#a_centered_sp = a1.dot(a2)\n",
    "a_centered_sp"
   ]
  },
  {
   "cell_type": "code",
   "execution_count": 20,
   "id": "0d8956a9",
   "metadata": {},
   "outputs": [
    {
     "data": {
      "text/plain": [
       "5"
      ]
     },
     "execution_count": 20,
     "metadata": {},
     "output_type": "execute_result"
    }
   ],
   "source": [
    "#поделите a_centered_sp на N-1, где N - число наблюдений\n",
    "N=a.shape[0]\n",
    "N"
   ]
  },
  {
   "cell_type": "code",
   "execution_count": 21,
   "id": "0aa8f100",
   "metadata": {},
   "outputs": [
    {
     "data": {
      "text/plain": [
       "2.0"
      ]
     },
     "execution_count": 21,
     "metadata": {},
     "output_type": "execute_result"
    }
   ],
   "source": [
    "my_cov=a_centered_sp/(N-1)\n",
    "my_cov"
   ]
  },
  {
   "cell_type": "code",
   "execution_count": 26,
   "id": "bf491cf4",
   "metadata": {},
   "outputs": [
    {
     "data": {
      "text/plain": [
       "array([[1. , 2. ],\n",
       "       [2. , 4.3]])"
      ]
     },
     "execution_count": 26,
     "metadata": {},
     "output_type": "execute_result"
    }
   ],
   "source": [
    "#проверьте получившееся число, вычислив\n",
    "#ковариацию еще одним способом — с помощью функции np.cov\n",
    "np.cov(a.transpose())"
   ]
  },
  {
   "cell_type": "code",
   "execution_count": 25,
   "id": "4a26fd74",
   "metadata": {},
   "outputs": [
    {
     "data": {
      "text/plain": [
       "2.0"
      ]
     },
     "execution_count": 25,
     "metadata": {},
     "output_type": "execute_result"
    }
   ],
   "source": [
    "#В получившейся ковариационной матрице (массив Numpy размером 2x2) \n",
    "#искомое значение ковариации будет равно элементу в строке с индексом 0 и столбце с индексом 1.\n",
    "cov_2 = np.cov(a.transpose())[0,1]\n",
    "cov_2"
   ]
  },
  {
   "cell_type": "code",
   "execution_count": null,
   "id": "60e8c2cd",
   "metadata": {},
   "outputs": [],
   "source": []
  }
 ],
 "metadata": {
  "kernelspec": {
   "display_name": "Python 3",
   "language": "python",
   "name": "python3"
  },
  "language_info": {
   "codemirror_mode": {
    "name": "ipython",
    "version": 3
   },
   "file_extension": ".py",
   "mimetype": "text/x-python",
   "name": "python",
   "nbconvert_exporter": "python",
   "pygments_lexer": "ipython3",
   "version": "3.8.8"
  }
 },
 "nbformat": 4,
 "nbformat_minor": 5
}
