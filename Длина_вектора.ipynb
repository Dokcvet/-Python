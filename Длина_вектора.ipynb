{
 "cells": [
  {
   "cell_type": "code",
   "execution_count": 1,
   "id": "03931b30",
   "metadata": {},
   "outputs": [
    {
     "name": "stdout",
     "output_type": "stream",
     "text": [
      "X = 4\n",
      "Y = 5\n",
      "Z = 6\n",
      "Length =  8.774964387392123\n"
     ]
    }
   ],
   "source": [
    "import math  \n",
    " \n",
    "# Запрашиваем координаты X, Y, Z\n",
    "x = float(input('X = '))\n",
    "y = float(input('Y = '))\n",
    "z = float(input('Z = '))\n",
    " \n",
    "# Вычисляем длину вектора\n",
    "lvec = math.sqrt(x * x + y * y + z * z)\n",
    " \n",
    "# Выводим длину вектора\n",
    "print('Length = ', lvec)"
   ]
  },
  {
   "cell_type": "code",
   "execution_count": null,
   "id": "342e3ee4",
   "metadata": {},
   "outputs": [],
   "source": []
  }
 ],
 "metadata": {
  "kernelspec": {
   "display_name": "Python 3",
   "language": "python",
   "name": "python3"
  },
  "language_info": {
   "codemirror_mode": {
    "name": "ipython",
    "version": 3
   },
   "file_extension": ".py",
   "mimetype": "text/x-python",
   "name": "python",
   "nbconvert_exporter": "python",
   "pygments_lexer": "ipython3",
   "version": "3.8.8"
  }
 },
 "nbformat": 4,
 "nbformat_minor": 5
}
