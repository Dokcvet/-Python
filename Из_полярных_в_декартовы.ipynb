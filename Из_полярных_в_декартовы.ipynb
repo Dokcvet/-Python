{
 "cells": [
  {
   "cell_type": "code",
   "execution_count": 4,
   "id": "3a19d97b",
   "metadata": {},
   "outputs": [
    {
     "name": "stdout",
     "output_type": "stream",
     "text": [
      "Введите R полярную координату точки: 2\n",
      "Введите a полярную координату точки: 45\n",
      "Координаты точки в декартовой системе координат будут равны: (1.05,1.7)\n"
     ]
    }
   ],
   "source": [
    "import numpy as np\n",
    "R = int(input('Введите R полярную координату точки: '))\n",
    "a = int(input('Введите a полярную координату точки: '))\n",
    "x = round(R*np.cos(a), 2)\n",
    "y = round(R*np.sin(a), 2)\n",
    "print(f'Координаты точки в декартовой системе координат будут равны: ({x},{y})')"
   ]
  },
  {
   "cell_type": "code",
   "execution_count": null,
   "id": "872aebbd",
   "metadata": {},
   "outputs": [],
   "source": []
  }
 ],
 "metadata": {
  "kernelspec": {
   "display_name": "Python 3",
   "language": "python",
   "name": "python3"
  },
  "language_info": {
   "codemirror_mode": {
    "name": "ipython",
    "version": 3
   },
   "file_extension": ".py",
   "mimetype": "text/x-python",
   "name": "python",
   "nbconvert_exporter": "python",
   "pygments_lexer": "ipython3",
   "version": "3.8.8"
  }
 },
 "nbformat": 4,
 "nbformat_minor": 5
}
