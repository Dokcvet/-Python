{
 "cells": [
  {
   "cell_type": "code",
   "execution_count": 10,
   "id": "81b4415b",
   "metadata": {},
   "outputs": [],
   "source": [
    "%matplotlib inline\n",
    "import numpy as np"
   ]
  },
  {
   "cell_type": "code",
   "execution_count": 14,
   "id": "4a20e384",
   "metadata": {
    "scrolled": true
   },
   "outputs": [
    {
     "name": "stdout",
     "output_type": "stream",
     "text": [
      "\n",
      "red, 18\n",
      "\n",
      "black, 28\n",
      "\n",
      "red, 13\n",
      "\n",
      "black, 35\n",
      "\n",
      "red, 4\n"
     ]
    }
   ],
   "source": [
    "for i in range(0, 5):\n",
    "    a = input()\n",
    "    num = np.random.uniform(0, 36)\n",
    "    if num == 0:\n",
    "      print(\"zero\")\n",
    "    elif num < 19:\n",
    "        print(f\"red, {round(num)}\")\n",
    "    else:\n",
    "        print(f\"black, {round(num)}\")"
   ]
  },
  {
   "cell_type": "code",
   "execution_count": null,
   "id": "bba994f0",
   "metadata": {},
   "outputs": [],
   "source": []
  }
 ],
 "metadata": {
  "kernelspec": {
   "display_name": "Python 3",
   "language": "python",
   "name": "python3"
  },
  "language_info": {
   "codemirror_mode": {
    "name": "ipython",
    "version": 3
   },
   "file_extension": ".py",
   "mimetype": "text/x-python",
   "name": "python",
   "nbconvert_exporter": "python",
   "pygments_lexer": "ipython3",
   "version": "3.8.8"
  }
 },
 "nbformat": 4,
 "nbformat_minor": 5
}
